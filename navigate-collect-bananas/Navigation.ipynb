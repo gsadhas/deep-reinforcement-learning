{
 "cells": [
  {
   "cell_type": "markdown",
   "metadata": {},
   "source": [
    "# Navigation\n",
    "\n",
    "---\n",
    "\n",
    "In this notebook, you will learn how to use the Unity ML-Agents environment for the first project of the [Deep Reinforcement Learning Nanodegree](https://www.udacity.com/course/deep-reinforcement-learning-nanodegree--nd893).\n",
    "\n",
    "### 1. Start the Environment\n",
    "\n",
    "We begin by importing some necessary packages.  If the code cell below returns an error, please revisit the project instructions to double-check that you have installed [Unity ML-Agents](https://github.com/Unity-Technologies/ml-agents/blob/master/docs/Installation.md) and [NumPy](http://www.numpy.org/)."
   ]
  },
  {
   "cell_type": "code",
   "execution_count": 1,
   "metadata": {},
   "outputs": [],
   "source": [
    "from unityagents import UnityEnvironment\n",
    "import numpy as np"
   ]
  },
  {
   "cell_type": "markdown",
   "metadata": {},
   "source": [
    "Next, we will start the environment!  **_Before running the code cell below_**, change the `file_name` parameter to match the location of the Unity environment that you downloaded.\n",
    "\n",
    "- **Mac**: `\"path/to/Banana.app\"`\n",
    "- **Windows** (x86): `\"path/to/Banana_Windows_x86/Banana.exe\"`\n",
    "- **Windows** (x86_64): `\"path/to/Banana_Windows_x86_64/Banana.exe\"`\n",
    "- **Linux** (x86): `\"path/to/Banana_Linux/Banana.x86\"`\n",
    "- **Linux** (x86_64): `\"path/to/Banana_Linux/Banana.x86_64\"`\n",
    "- **Linux** (x86, headless): `\"path/to/Banana_Linux_NoVis/Banana.x86\"`\n",
    "- **Linux** (x86_64, headless): `\"path/to/Banana_Linux_NoVis/Banana.x86_64\"`\n",
    "\n",
    "For instance, if you are using a Mac, then you downloaded `Banana.app`.  If this file is in the same folder as the notebook, then the line below should appear as follows:\n",
    "```\n",
    "env = UnityEnvironment(file_name=\"Banana.app\")\n",
    "```"
   ]
  },
  {
   "cell_type": "code",
   "execution_count": 2,
   "metadata": {},
   "outputs": [
    {
     "name": "stderr",
     "output_type": "stream",
     "text": [
      "INFO:unityagents:\n",
      "'Academy' started successfully!\n",
      "Unity Academy name: Academy\n",
      "        Number of Brains: 1\n",
      "        Number of External Brains : 1\n",
      "        Lesson number : 0\n",
      "        Reset Parameters :\n",
      "\t\t\n",
      "Unity brain name: BananaBrain\n",
      "        Number of Visual Observations (per agent): 0\n",
      "        Vector Observation space type: continuous\n",
      "        Vector Observation space size (per agent): 37\n",
      "        Number of stacked Vector Observation: 1\n",
      "        Vector Action space type: discrete\n",
      "        Vector Action space size (per agent): 4\n",
      "        Vector Action descriptions: , , , \n"
     ]
    }
   ],
   "source": [
    "env = UnityEnvironment(file_name=\"Banana_Linux_NoVis/Banana.x86\")"
   ]
  },
  {
   "cell_type": "markdown",
   "metadata": {},
   "source": [
    "Environments contain **_brains_** which are responsible for deciding the actions of their associated agents. Here we check for the first brain available, and set it as the default brain we will be controlling from Python."
   ]
  },
  {
   "cell_type": "code",
   "execution_count": 3,
   "metadata": {},
   "outputs": [],
   "source": [
    "# get the default brain\n",
    "brain_name = env.brain_names[0]\n",
    "brain = env.brains[brain_name]"
   ]
  },
  {
   "cell_type": "markdown",
   "metadata": {},
   "source": [
    "### 2. Examine the State and Action Spaces\n",
    "\n",
    "The simulation contains a single agent that navigates a large environment.  At each time step, it has four actions at its disposal:\n",
    "- `0` - walk forward \n",
    "- `1` - walk backward\n",
    "- `2` - turn left\n",
    "- `3` - turn right\n",
    "\n",
    "The state space has `37` dimensions and contains the agent's velocity, along with ray-based perception of objects around agent's forward direction.  A reward of `+1` is provided for collecting a yellow banana, and a reward of `-1` is provided for collecting a blue banana. \n",
    "\n",
    "Run the code cell below to print some information about the environment."
   ]
  },
  {
   "cell_type": "code",
   "execution_count": 4,
   "metadata": {},
   "outputs": [
    {
     "name": "stdout",
     "output_type": "stream",
     "text": [
      "Number of agents: 1\n",
      "Number of actions: 4\n",
      "States look like: [1.         0.         0.         0.         0.84408134 0.\n",
      " 0.         1.         0.         0.0748472  0.         1.\n",
      " 0.         0.         0.25755    1.         0.         0.\n",
      " 0.         0.74177343 0.         1.         0.         0.\n",
      " 0.25854847 0.         0.         1.         0.         0.09355672\n",
      " 0.         1.         0.         0.         0.31969345 0.\n",
      " 0.        ]\n",
      "States have length: 37\n"
     ]
    }
   ],
   "source": [
    "# reset the environment\n",
    "env_info = env.reset(train_mode=True)[brain_name]\n",
    "\n",
    "# number of agents in the environment\n",
    "print('Number of agents:', len(env_info.agents))\n",
    "\n",
    "# number of actions\n",
    "action_size = brain.vector_action_space_size\n",
    "print('Number of actions:', action_size)\n",
    "\n",
    "# examine the state space \n",
    "state = env_info.vector_observations[0]\n",
    "print('States look like:', state)\n",
    "state_size = len(state)\n",
    "print('States have length:', state_size)"
   ]
  },
  {
   "cell_type": "markdown",
   "metadata": {},
   "source": [
    "### 3. Take Random Actions in the Environment\n",
    "\n",
    "In the next code cell, you will learn how to use the Python API to control the agent and receive feedback from the environment.\n",
    "\n",
    "Once this cell is executed, you will watch the agent's performance, if it selects an action (uniformly) at random with each time step.  A window should pop up that allows you to observe the agent, as it moves through the environment.  \n",
    "\n",
    "Of course, as part of the project, you'll have to change the code so that the agent is able to use its experience to gradually choose better actions when interacting with the environment!"
   ]
  },
  {
   "cell_type": "code",
   "execution_count": 5,
   "metadata": {},
   "outputs": [
    {
     "name": "stdout",
     "output_type": "stream",
     "text": [
      "Score: 0.0\n"
     ]
    }
   ],
   "source": [
    "env_info = env.reset(train_mode=False)[brain_name] # reset the environment\n",
    "state = env_info.vector_observations[0]            # get the current state\n",
    "score = 0                                          # initialize the score\n",
    "while True:\n",
    "    action = np.random.randint(action_size)        # select an action\n",
    "    env_info = env.step(action)[brain_name]        # send the action to the environment\n",
    "    next_state = env_info.vector_observations[0]   # get the next state\n",
    "    reward = env_info.rewards[0]                   # get the reward\n",
    "    done = env_info.local_done[0]                  # see if episode has finished\n",
    "    score += reward                                # update the score\n",
    "    state = next_state                             # roll over the state to next time step\n",
    "    if done:                                       # exit loop if episode finished\n",
    "        break\n",
    "    \n",
    "print(\"Score: {}\".format(score))"
   ]
  },
  {
   "cell_type": "markdown",
   "metadata": {},
   "source": [
    "When finished, you can close the environment."
   ]
  },
  {
   "cell_type": "code",
   "execution_count": 6,
   "metadata": {},
   "outputs": [],
   "source": [
    "env.close()"
   ]
  },
  {
   "cell_type": "markdown",
   "metadata": {},
   "source": [
    "### 4. It's Your Turn!\n",
    "\n",
    "Now it's your turn to train your own agent to solve the environment!  When training the environment, set `train_mode=True`, so that the line for resetting the environment looks like the following:\n",
    "```python\n",
    "env_info = env.reset(train_mode=True)[brain_name]\n",
    "```"
   ]
  },
  {
   "cell_type": "code",
   "execution_count": 1,
   "metadata": {},
   "outputs": [],
   "source": [
    "import random\n",
    "import torch\n",
    "import numpy as np\n",
    "from collections import deque\n",
    "import matplotlib.pyplot as plt\n",
    "from unityagents import UnityEnvironment\n",
    "from dqn_agent import Agent\n",
    "\n",
    "%matplotlib inline"
   ]
  },
  {
   "cell_type": "code",
   "execution_count": 2,
   "metadata": {},
   "outputs": [
    {
     "name": "stderr",
     "output_type": "stream",
     "text": [
      "INFO:unityagents:\n",
      "'Academy' started successfully!\n",
      "Unity Academy name: Academy\n",
      "        Number of Brains: 1\n",
      "        Number of External Brains : 1\n",
      "        Lesson number : 0\n",
      "        Reset Parameters :\n",
      "\t\t\n",
      "Unity brain name: BananaBrain\n",
      "        Number of Visual Observations (per agent): 0\n",
      "        Vector Observation space type: continuous\n",
      "        Vector Observation space size (per agent): 37\n",
      "        Number of stacked Vector Observation: 1\n",
      "        Vector Action space type: discrete\n",
      "        Vector Action space size (per agent): 4\n",
      "        Vector Action descriptions: , , , \n"
     ]
    }
   ],
   "source": [
    "env = UnityEnvironment(file_name=\"Banana_Linux_NoVis/Banana.x86\")"
   ]
  },
  {
   "cell_type": "code",
   "execution_count": 3,
   "metadata": {},
   "outputs": [],
   "source": [
    "brain_name = env.brain_names[0]\n",
    "brain = env.brains[brain_name]"
   ]
  },
  {
   "cell_type": "code",
   "execution_count": 4,
   "metadata": {},
   "outputs": [
    {
     "name": "stdout",
     "output_type": "stream",
     "text": [
      "Action space: 4\n"
     ]
    }
   ],
   "source": [
    "action_size = brain.vector_action_space_size\n",
    "print(\"Action space:\", action_size)"
   ]
  },
  {
   "cell_type": "code",
   "execution_count": 5,
   "metadata": {},
   "outputs": [],
   "source": [
    "# Instantiate the agent\n",
    "agent = Agent(state_size=37, action_size=4, seed=0)"
   ]
  },
  {
   "cell_type": "code",
   "execution_count": 6,
   "metadata": {},
   "outputs": [],
   "source": [
    "def dqn(n_episodes=2000, max_t=1000, eps_start=1.0, eps_end=0.01, eps_decay=0.995, min_avg_reward=13.0):\n",
    "    \"\"\"Deep Q-Learning.\n",
    "    \n",
    "    Params\n",
    "    ======\n",
    "        n_episodes (int): maximum number of training episodes\n",
    "        max_t (int): maximum number of timesteps per episode\n",
    "        eps_start (float): starting value of epsilon, for epsilon-greedy action selection\n",
    "        eps_end (float): minimum value of epsilon\n",
    "        eps_decay (float): multiplicative factor (per episode) for decreasing epsilon\n",
    "    \"\"\"\n",
    "    scores = []\n",
    "    average_scores = []\n",
    "    scores_window = deque(maxlen=100)\n",
    "    eps = eps_start\n",
    "    best_score = np.float('-inf')\n",
    "    for i_episode in range(1, n_episodes+1):\n",
    "        env_info = env.reset(train_mode=True)[brain_name]\n",
    "        state = env_info.vector_observations[0]\n",
    "        score = 0\n",
    "        for t in range(max_t):\n",
    "            action = agent.act(state, eps)\n",
    "            env_info = env.step(action)[brain_name]\n",
    "            next_state = env_info.vector_observations[0]\n",
    "            reward = env_info.rewards[0]\n",
    "            done = env_info.local_done[0] \n",
    "            agent.step(state, action, reward, next_state, done)\n",
    "            state = next_state\n",
    "            score += reward\n",
    "            if done:\n",
    "                break \n",
    "        scores_window.append(score)\n",
    "        scores.append(score)\n",
    "        eps = max(eps_end, eps_decay*eps)\n",
    "        print('\\rEpisode {}\\tAverage Score: {:.2f}'.format(i_episode, np.mean(scores_window)), end=\"\")\n",
    "        if i_episode % 100 == 0:\n",
    "            average_scores.append(np.mean(scores_window))\n",
    "            print('\\rEpisode {}\\tAverage Score: {:.2f}'.format(i_episode, np.mean(scores_window)))\n",
    "            \n",
    "        if np.mean(scores_window) >= min_avg_reward and np.mean(scores_window) >= best_score:\n",
    "            best_score = np.mean(scores_window)\n",
    "            print('\\nEnvironment solved in {:d} episodes!\\tBest average score: {:.2f}'.format(i_episode-100, np.mean(scores_window)))\n",
    "            torch.save(agent.qnetwork_local.state_dict(), 'checkpoint.pth')\n",
    "            \n",
    "    return scores, average_scores"
   ]
  },
  {
   "cell_type": "code",
   "execution_count": 7,
   "metadata": {},
   "outputs": [
    {
     "name": "stdout",
     "output_type": "stream",
     "text": [
      "Episode 100\tAverage Score: 0.60\n",
      "Episode 200\tAverage Score: 3.56\n",
      "Episode 300\tAverage Score: 7.57\n",
      "Episode 400\tAverage Score: 10.04\n",
      "Episode 500\tAverage Score: 11.68\n",
      "Episode 558\tAverage Score: 13.01\n",
      "Environment solved in 458 episodes!\tBest average score: 13.01\n",
      "Episode 559\tAverage Score: 13.04\n",
      "Environment solved in 459 episodes!\tBest average score: 13.04\n",
      "Episode 560\tAverage Score: 13.11\n",
      "Environment solved in 460 episodes!\tBest average score: 13.11\n",
      "Episode 561\tAverage Score: 13.15\n",
      "Environment solved in 461 episodes!\tBest average score: 13.15\n",
      "Episode 563\tAverage Score: 13.16\n",
      "Environment solved in 463 episodes!\tBest average score: 13.16\n",
      "Episode 564\tAverage Score: 13.16\n",
      "Environment solved in 464 episodes!\tBest average score: 13.16\n",
      "Episode 565\tAverage Score: 13.17\n",
      "Environment solved in 465 episodes!\tBest average score: 13.17\n",
      "Episode 577\tAverage Score: 13.17\n",
      "Environment solved in 477 episodes!\tBest average score: 13.17\n",
      "Episode 578\tAverage Score: 13.24\n",
      "Environment solved in 478 episodes!\tBest average score: 13.24\n",
      "Episode 579\tAverage Score: 13.25\n",
      "Environment solved in 479 episodes!\tBest average score: 13.25\n",
      "Episode 580\tAverage Score: 13.28\n",
      "Environment solved in 480 episodes!\tBest average score: 13.28\n",
      "Episode 581\tAverage Score: 13.29\n",
      "Environment solved in 481 episodes!\tBest average score: 13.29\n",
      "Episode 582\tAverage Score: 13.30\n",
      "Environment solved in 482 episodes!\tBest average score: 13.30\n",
      "Episode 584\tAverage Score: 13.32\n",
      "Environment solved in 484 episodes!\tBest average score: 13.32\n",
      "Episode 593\tAverage Score: 13.39\n",
      "Environment solved in 493 episodes!\tBest average score: 13.39\n",
      "Episode 595\tAverage Score: 13.41\n",
      "Environment solved in 495 episodes!\tBest average score: 13.41\n",
      "Episode 597\tAverage Score: 13.47\n",
      "Environment solved in 497 episodes!\tBest average score: 13.47\n",
      "Episode 598\tAverage Score: 13.52\n",
      "Environment solved in 498 episodes!\tBest average score: 13.52\n",
      "Episode 599\tAverage Score: 13.56\n",
      "Environment solved in 499 episodes!\tBest average score: 13.56\n",
      "Episode 600\tAverage Score: 13.53\n",
      "Episode 601\tAverage Score: 13.61\n",
      "Environment solved in 501 episodes!\tBest average score: 13.61\n",
      "Episode 602\tAverage Score: 13.65\n",
      "Environment solved in 502 episodes!\tBest average score: 13.65\n",
      "Episode 604\tAverage Score: 13.74\n",
      "Environment solved in 504 episodes!\tBest average score: 13.74\n",
      "Episode 605\tAverage Score: 13.75\n",
      "Environment solved in 505 episodes!\tBest average score: 13.75\n",
      "Episode 614\tAverage Score: 13.75\n",
      "Environment solved in 514 episodes!\tBest average score: 13.75\n",
      "Episode 615\tAverage Score: 13.88\n",
      "Environment solved in 515 episodes!\tBest average score: 13.88\n",
      "Episode 619\tAverage Score: 13.92\n",
      "Environment solved in 519 episodes!\tBest average score: 13.92\n",
      "Episode 620\tAverage Score: 14.00\n",
      "Environment solved in 520 episodes!\tBest average score: 14.00\n",
      "Episode 623\tAverage Score: 14.02\n",
      "Environment solved in 523 episodes!\tBest average score: 14.02\n",
      "Episode 624\tAverage Score: 14.03\n",
      "Environment solved in 524 episodes!\tBest average score: 14.03\n",
      "Episode 625\tAverage Score: 14.15\n",
      "Environment solved in 525 episodes!\tBest average score: 14.15\n",
      "Episode 626\tAverage Score: 14.25\n",
      "Environment solved in 526 episodes!\tBest average score: 14.25\n",
      "Episode 686\tAverage Score: 14.26\n",
      "Environment solved in 586 episodes!\tBest average score: 14.26\n",
      "Episode 687\tAverage Score: 14.31\n",
      "Environment solved in 587 episodes!\tBest average score: 14.31\n",
      "Episode 688\tAverage Score: 14.32\n",
      "Environment solved in 588 episodes!\tBest average score: 14.32\n",
      "Episode 699\tAverage Score: 14.38\n",
      "Environment solved in 599 episodes!\tBest average score: 14.38\n",
      "Episode 700\tAverage Score: 14.39\n",
      "\n",
      "Environment solved in 600 episodes!\tBest average score: 14.39\n",
      "Episode 703\tAverage Score: 14.47\n",
      "Environment solved in 603 episodes!\tBest average score: 14.47\n",
      "Episode 706\tAverage Score: 14.48\n",
      "Environment solved in 606 episodes!\tBest average score: 14.48\n",
      "Episode 707\tAverage Score: 14.57\n",
      "Environment solved in 607 episodes!\tBest average score: 14.57\n",
      "Episode 708\tAverage Score: 14.57\n",
      "Environment solved in 608 episodes!\tBest average score: 14.57\n",
      "Episode 712\tAverage Score: 14.58\n",
      "Environment solved in 612 episodes!\tBest average score: 14.58\n",
      "Episode 715\tAverage Score: 14.59\n",
      "Environment solved in 615 episodes!\tBest average score: 14.59\n",
      "Episode 725\tAverage Score: 14.63\n",
      "Environment solved in 625 episodes!\tBest average score: 14.63\n",
      "Episode 727\tAverage Score: 14.63\n",
      "Environment solved in 627 episodes!\tBest average score: 14.63\n",
      "Episode 729\tAverage Score: 14.65\n",
      "Environment solved in 629 episodes!\tBest average score: 14.65\n",
      "Episode 730\tAverage Score: 14.70\n",
      "Environment solved in 630 episodes!\tBest average score: 14.70\n",
      "Episode 731\tAverage Score: 14.70\n",
      "Environment solved in 631 episodes!\tBest average score: 14.70\n",
      "Episode 732\tAverage Score: 14.85\n",
      "Environment solved in 632 episodes!\tBest average score: 14.85\n",
      "Episode 733\tAverage Score: 14.88\n",
      "Environment solved in 633 episodes!\tBest average score: 14.88\n",
      "Episode 735\tAverage Score: 14.89\n",
      "Environment solved in 635 episodes!\tBest average score: 14.89\n",
      "Episode 736\tAverage Score: 14.94\n",
      "Environment solved in 636 episodes!\tBest average score: 14.94\n",
      "Episode 739\tAverage Score: 14.96\n",
      "Environment solved in 639 episodes!\tBest average score: 14.96\n",
      "Episode 741\tAverage Score: 15.04\n",
      "Environment solved in 641 episodes!\tBest average score: 15.04\n",
      "Episode 742\tAverage Score: 15.06\n",
      "Environment solved in 642 episodes!\tBest average score: 15.06\n",
      "Episode 743\tAverage Score: 15.07\n",
      "Environment solved in 643 episodes!\tBest average score: 15.07\n",
      "Episode 744\tAverage Score: 15.07\n",
      "Environment solved in 644 episodes!\tBest average score: 15.07\n",
      "Episode 745\tAverage Score: 15.13\n",
      "Environment solved in 645 episodes!\tBest average score: 15.13\n",
      "Episode 766\tAverage Score: 15.13\n",
      "Environment solved in 666 episodes!\tBest average score: 15.13\n",
      "Episode 768\tAverage Score: 15.13\n",
      "Environment solved in 668 episodes!\tBest average score: 15.13\n",
      "Episode 769\tAverage Score: 15.21\n",
      "Environment solved in 669 episodes!\tBest average score: 15.21\n",
      "Episode 779\tAverage Score: 15.21\n",
      "Environment solved in 679 episodes!\tBest average score: 15.21\n",
      "Episode 782\tAverage Score: 15.26\n",
      "Environment solved in 682 episodes!\tBest average score: 15.26\n",
      "Episode 784\tAverage Score: 15.26\n",
      "Environment solved in 684 episodes!\tBest average score: 15.26\n",
      "Episode 785\tAverage Score: 15.37\n",
      "Environment solved in 685 episodes!\tBest average score: 15.37\n",
      "Episode 789\tAverage Score: 15.38\n",
      "Environment solved in 689 episodes!\tBest average score: 15.38\n",
      "Episode 790\tAverage Score: 15.39\n",
      "Environment solved in 690 episodes!\tBest average score: 15.39\n",
      "Episode 791\tAverage Score: 15.44\n",
      "Environment solved in 691 episodes!\tBest average score: 15.44\n",
      "Episode 792\tAverage Score: 15.48\n",
      "Environment solved in 692 episodes!\tBest average score: 15.48\n",
      "Episode 793\tAverage Score: 15.50\n",
      "Environment solved in 693 episodes!\tBest average score: 15.50\n",
      "Episode 794\tAverage Score: 15.52\n",
      "Environment solved in 694 episodes!\tBest average score: 15.52\n",
      "Episode 795\tAverage Score: 15.58\n",
      "Environment solved in 695 episodes!\tBest average score: 15.58\n",
      "Episode 796\tAverage Score: 15.63\n",
      "Environment solved in 696 episodes!\tBest average score: 15.63\n",
      "Episode 797\tAverage Score: 15.64\n",
      "Environment solved in 697 episodes!\tBest average score: 15.64\n",
      "Episode 800\tAverage Score: 15.48\n",
      "Episode 819\tAverage Score: 15.73\n",
      "Environment solved in 719 episodes!\tBest average score: 15.73\n",
      "Episode 820\tAverage Score: 15.74\n",
      "Environment solved in 720 episodes!\tBest average score: 15.74\n",
      "Episode 822\tAverage Score: 15.77\n",
      "Environment solved in 722 episodes!\tBest average score: 15.77\n",
      "Episode 823\tAverage Score: 15.79\n",
      "Environment solved in 723 episodes!\tBest average score: 15.79\n",
      "Episode 824\tAverage Score: 15.89\n",
      "Environment solved in 724 episodes!\tBest average score: 15.89\n",
      "Episode 826\tAverage Score: 15.90\n",
      "Environment solved in 726 episodes!\tBest average score: 15.90\n",
      "Episode 828\tAverage Score: 15.91\n",
      "Environment solved in 728 episodes!\tBest average score: 15.91\n",
      "Episode 843\tAverage Score: 15.91\n",
      "Environment solved in 743 episodes!\tBest average score: 15.91\n",
      "Episode 849\tAverage Score: 15.95\n",
      "Environment solved in 749 episodes!\tBest average score: 15.95\n",
      "Episode 850\tAverage Score: 15.96\n",
      "Environment solved in 750 episodes!\tBest average score: 15.96\n",
      "Episode 851\tAverage Score: 16.04\n",
      "Environment solved in 751 episodes!\tBest average score: 16.04\n"
     ]
    },
    {
     "name": "stdout",
     "output_type": "stream",
     "text": [
      "Episode 852\tAverage Score: 16.16\n",
      "Environment solved in 752 episodes!\tBest average score: 16.16\n",
      "Episode 855\tAverage Score: 16.21\n",
      "Environment solved in 755 episodes!\tBest average score: 16.21\n",
      "Episode 856\tAverage Score: 16.25\n",
      "Environment solved in 756 episodes!\tBest average score: 16.25\n",
      "Episode 871\tAverage Score: 16.28\n",
      "Environment solved in 771 episodes!\tBest average score: 16.28\n",
      "Episode 872\tAverage Score: 16.37\n",
      "Environment solved in 772 episodes!\tBest average score: 16.37\n",
      "Episode 873\tAverage Score: 16.37\n",
      "Environment solved in 773 episodes!\tBest average score: 16.37\n",
      "Episode 900\tAverage Score: 16.08\n",
      "Episode 1000\tAverage Score: 15.88\n",
      "Episode 1100\tAverage Score: 15.79\n",
      "Episode 1200\tAverage Score: 15.65\n",
      "Episode 1223\tAverage Score: 16.37\n",
      "Environment solved in 1123 episodes!\tBest average score: 16.37\n",
      "Episode 1236\tAverage Score: 16.37\n",
      "Environment solved in 1136 episodes!\tBest average score: 16.37\n",
      "Episode 1238\tAverage Score: 16.38\n",
      "Environment solved in 1138 episodes!\tBest average score: 16.38\n",
      "Episode 1239\tAverage Score: 16.38\n",
      "Environment solved in 1139 episodes!\tBest average score: 16.38\n",
      "Episode 1287\tAverage Score: 16.40\n",
      "Environment solved in 1187 episodes!\tBest average score: 16.40\n",
      "Episode 1288\tAverage Score: 16.48\n",
      "Environment solved in 1188 episodes!\tBest average score: 16.48\n",
      "Episode 1290\tAverage Score: 16.55\n",
      "Environment solved in 1190 episodes!\tBest average score: 16.55\n",
      "Episode 1300\tAverage Score: 16.48\n",
      "Episode 1301\tAverage Score: 16.56\n",
      "Environment solved in 1201 episodes!\tBest average score: 16.56\n",
      "Episode 1303\tAverage Score: 16.58\n",
      "Environment solved in 1203 episodes!\tBest average score: 16.58\n",
      "Episode 1400\tAverage Score: 15.73\n",
      "Episode 1500\tAverage Score: 16.25\n",
      "Episode 1600\tAverage Score: 16.21\n",
      "Episode 1700\tAverage Score: 15.61\n",
      "Episode 1800\tAverage Score: 15.74\n",
      "Episode 1900\tAverage Score: 15.21\n",
      "Episode 2000\tAverage Score: 14.79\n"
     ]
    }
   ],
   "source": [
    "scores, rolling_mean_scores = dqn()"
   ]
  },
  {
   "cell_type": "code",
   "execution_count": 13,
   "metadata": {},
   "outputs": [
    {
     "data": {
      "image/png": "[encoded data removed]",
      "text/plain": [
       "<Figure size 432x288 with 1 Axes>"
      ]
     },
     "metadata": {
      "needs_background": "light"
     },
     "output_type": "display_data"
    }
   ],
   "source": [
    "# plot the scores\n",
    "fig = plt.figure()\n",
    "ax = fig.add_subplot(111)\n",
    "plt.plot(np.arange(len(scores)), scores)\n",
    "plt.plot(range(100, 2100, 100), rolling_mean_scores)\n",
    "plt.ylabel('Score')\n",
    "plt.xlabel('Episode #')\n",
    "plt.savefig(\"rewards_plot.png\", bbox_inches='tight')"
   ]
  },
  {
   "cell_type": "code",
   "execution_count": null,
   "metadata": {},
   "outputs": [],
   "source": []
  },
  {
   "cell_type": "code",
   "execution_count": null,
   "metadata": {},
   "outputs": [],
   "source": []
  },
  {
   "cell_type": "code",
   "execution_count": null,
   "metadata": {},
   "outputs": [],
   "source": []
  }
 ],
 "metadata": {
  "kernelspec": {
   "display_name": "drlnd",
   "language": "python",
   "name": "drlnd"
  },
  "language_info": {
   "codemirror_mode": {
    "name": "ipython",
    "version": 3
   },
   "file_extension": ".py",
   "mimetype": "text/x-python",
   "name": "python",
   "nbconvert_exporter": "python",
   "pygments_lexer": "ipython3",
   "version": "3.6.9"
  }
 },
 "nbformat": 4,
 "nbformat_minor": 2
}
